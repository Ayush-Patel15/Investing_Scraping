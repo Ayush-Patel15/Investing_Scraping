{
 "cells": [
  {
   "cell_type": "markdown",
   "metadata": {},
   "source": [
    "## To Get the CSV file of different categories\n",
    "\n",
    "The file consist functions that uses `investpy` library of python to extract CSV files of all instruments that lies under a particular category. And it saves the CSV files under a specified location or path."
   ]
  },
  {
   "cell_type": "code",
   "execution_count": null,
   "metadata": {},
   "outputs": [],
   "source": [
    "# pip install the investpy library for 1st time only.\n",
    "# ! pip install investpy"
   ]
  },
  {
   "cell_type": "markdown",
   "metadata": {},
   "source": [
    "#### Below codeblock has all the individual functions to get a csv file for all instruments. And also a threaded function to get them all in once."
   ]
  },
  {
   "cell_type": "code",
   "execution_count": null,
   "metadata": {},
   "outputs": [],
   "source": [
    "# imports\n",
    "from investpy import stocks, funds, etfs, indices, currency_crosses\n",
    "from investpy import bonds, commodities, certificates, crypto\n",
    "from threading import Thread\n",
    "import os\n",
    "\n",
    "###### STOCKS CSV ######\n",
    "def csv_for_stocks_data(path):\n",
    "    df_stocks = stocks.get_stocks(country=None)\n",
    "    df_stocks.to_csv(f\"{path}/stocks.csv\", index=False)\n",
    "    print(\"Stocks csv file saved..!\")\n",
    "    return True\n",
    "\n",
    "###### FUNDS CSV ######\n",
    "def csv_for_funds_data(path):\n",
    "    df_funds = funds.get_funds(country=None)\n",
    "    df_funds.to_csv(f\"{path}/funds.csv\", index=False)\n",
    "    print(\"Funds csv file saved..!\")\n",
    "    return True\n",
    "\n",
    "###### ETFS CSV ######\n",
    "def csv_for_etfs_data(path):\n",
    "    df_etfs = etfs.get_etfs(country=None)\n",
    "    df_etfs.to_csv(f\"{path}/etfs.csv\", index=False)\n",
    "    print(\"Etfs csv file saved..!\")\n",
    "    return True\n",
    "\n",
    "###### INDICES CSV ######\n",
    "def csv_for_indices_data(path):\n",
    "    df_indices = indices.get_indices(country=None)\n",
    "    df_indices.to_csv(f\"{path}/indices.csv\", index=False)\n",
    "    print(\"Indices csv file saved..!\")\n",
    "    return True\n",
    "\n",
    "###### FOREX CSV ######\n",
    "def csv_for_forex_currency_data(path):\n",
    "    df_forex_currencies = currency_crosses.get_currency_crosses(base=None, second=None)\n",
    "    df_forex_currencies.to_csv(f\"{path}/forex_currencies.csv\", index=False)\n",
    "    print(\"Forex_currencies csv file saved..!\")\n",
    "    return True\n",
    "\n",
    "###### BONDS CSV ######\n",
    "def csv_for_bonds_data(path):\n",
    "    df_bonds = bonds.get_bonds(country=None)\n",
    "    df_bonds.to_csv(f\"{path}/bonds.csv\", index=False)\n",
    "    print(\"Bonds csv file saved..!\")\n",
    "    return True\n",
    "\n",
    "###### COMMODITIES CSV ######\n",
    "def csv_for_commodities_data(path):\n",
    "    df_commodities = commodities.get_commodities(group=None)\n",
    "    df_commodities.to_csv(f\"{path}/commodities.csv\", index=False)\n",
    "    print(\"Commodities csv file saved..!\")\n",
    "    return True\n",
    "\n",
    "###### CERTIFICATES CSV ######\n",
    "def csv_for_certificates_data(path):\n",
    "    df_certificates = certificates.get_certificates(country=None)\n",
    "    df_certificates.to_csv(f\"{path}/certificates.csv\", index=False)\n",
    "    print(\"Certificates csv file saved..!\")\n",
    "    return True\n",
    "\n",
    "###### CRYPTOS CSV ######\n",
    "def csv_for_cryptos_data(path):\n",
    "    df_cryptos = crypto.get_cryptos()\n",
    "    df_cryptos.to_csv(f\"{path}/cryptos.csv\", index=False)\n",
    "    print(\"Cryptos csv file saved..!\")\n",
    "    return True\n",
    "\n",
    "###### Threaded function ######\n",
    "def fetch_threads(path):\n",
    "    threads = [\n",
    "        Thread(target=csv_for_stocks_data, args=(path,)),\n",
    "        Thread(target=csv_for_funds_data, args=(path,)),\n",
    "        Thread(target=csv_for_etfs_data, args=(path,)),\n",
    "        Thread(target=csv_for_indices_data, args=(path,)),\n",
    "        Thread(target=csv_for_forex_currency_data, args=(path,)),\n",
    "        Thread(target=csv_for_bonds_data, args=(path,)),\n",
    "        Thread(target=csv_for_commodities_data, args=(path,)),\n",
    "        Thread(target=csv_for_certificates_data, args=(path,)),\n",
    "        Thread(target=csv_for_cryptos_data, args=(path,))\n",
    "    ]\n",
    "    [t.start() for t in threads]\n",
    "    [t.join() for t in threads]\n",
    "    print(\"Fetched all csv files\")\n",
    "    return True"
   ]
  },
  {
   "cell_type": "markdown",
   "metadata": {},
   "source": [
    "#### The main function"
   ]
  },
  {
   "cell_type": "code",
   "execution_count": null,
   "metadata": {},
   "outputs": [],
   "source": [
    "import os\n",
    "\n",
    "def main():\n",
    "    current_dir = os.getcwd()\n",
    "    if os.path.exists(f\"{current_dir}/categories\"):\n",
    "        pass\n",
    "        # print(path_to_save)\n",
    "    else:\n",
    "        os.mkdir(\"categories\")\n",
    "    path_to_save = current_dir + \"/\" + \"categories\"\n",
    "    choice = input(\"\"\"Enter your choice:\n",
    "    1. For Stocks\n",
    "    2. For Funds\n",
    "    3. For ETF's\n",
    "    4. For Indices\n",
    "    5. For Forex currency\n",
    "    6. For Bonds\n",
    "    7. For Commodities\n",
    "    8. For Certificates\n",
    "    9. For cryptos\n",
    "    10. For All\n",
    "    \"\"\")\n",
    "    \n",
    "    if choice == \"1\":\n",
    "        csv_for_stocks_data(path=path_to_save)\n",
    "    elif choice == \"2\":\n",
    "        csv_for_funds_data(path=path_to_save)\n",
    "    elif choice == \"3\":\n",
    "        csv_for_etfs_data(path=path_to_save)\n",
    "    elif choice == \"4\":\n",
    "        csv_for_indices_data(path=path_to_save)\n",
    "    elif choice == \"5\":\n",
    "        csv_for_forex_currency_data(path=path_to_save)\n",
    "    elif choice == \"6\":\n",
    "        csv_for_bonds_data(path=path_to_save)\n",
    "    elif choice == \"7\":\n",
    "        csv_for_commodities_data(path=path_to_save)\n",
    "    elif choice == \"8\":\n",
    "        csv_for_certificates_data(path=path_to_save)\n",
    "    elif choice == \"9\":\n",
    "        csv_for_cryptos_data(path=path_to_save)\n",
    "    elif choice == \"10\":\n",
    "        fetch_threads(path=path_to_save)\n",
    "    else:\n",
    "        print(\"Please enter a valid choice..!\")"
   ]
  },
  {
   "cell_type": "markdown",
   "metadata": {},
   "source": [
    "## Calling of script"
   ]
  },
  {
   "cell_type": "code",
   "execution_count": null,
   "metadata": {},
   "outputs": [],
   "source": [
    "main()"
   ]
  }
 ],
 "metadata": {
  "kernelspec": {
   "display_name": "Python 3.8.5 64-bit",
   "language": "python",
   "name": "python3"
  },
  "language_info": {
   "codemirror_mode": {
    "name": "ipython",
    "version": 3
   },
   "file_extension": ".py",
   "mimetype": "text/x-python",
   "name": "python",
   "nbconvert_exporter": "python",
   "pygments_lexer": "ipython3",
   "version": "3.8.5"
  },
  "orig_nbformat": 4,
  "vscode": {
   "interpreter": {
    "hash": "24e825efde00d83ae8956899d00353005a5e8e868b3ba791ab8b91de6cfd1652"
   }
  }
 },
 "nbformat": 4,
 "nbformat_minor": 2
}
