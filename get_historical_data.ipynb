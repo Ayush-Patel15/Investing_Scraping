{
 "cells": [
  {
   "cell_type": "markdown",
   "metadata": {},
   "source": [
    "## Get Historical data of instruments"
   ]
  },
  {
   "cell_type": "markdown",
   "metadata": {},
   "source": [
    "Function to extract the historical data of instruments that include: \n",
    "\n",
    "- Date\n",
    "- Open\n",
    "- High\n",
    "- Low\n",
    "- Close\n",
    "- Volume\n",
    "- Change_percent"
   ]
  },
  {
   "cell_type": "markdown",
   "metadata": {},
   "source": [
    "Values of symbols or columns through which we can search are:\n",
    "\n",
    "- For stocks: `symbol` column\n",
    "- For funds: `symbol` column\n",
    "- For etfs: `symbol` column\n",
    "- For indices: `symbol` column\n",
    "- For forex currency pairs: `name` column\n",
    "- For bonds: `name` column\n",
    "- For commodities: `name` column\n",
    "- For certificates: `symbol` column\n",
    "- For cryptos: `name` column"
   ]
  },
  {
   "cell_type": "code",
   "execution_count": null,
   "metadata": {},
   "outputs": [],
   "source": [
    "# Run and install the dependencies only once.\n",
    "# ! pip install requests"
   ]
  },
  {
   "cell_type": "markdown",
   "metadata": {},
   "source": [
    "#### Helpers Functions defined, that will be needed for the main execution."
   ]
  },
  {
   "cell_type": "code",
   "execution_count": null,
   "metadata": {},
   "outputs": [],
   "source": [
    "import requests\n",
    "import json\n",
    "\n",
    "## Extract the json formatted data from the investing xhr request.\n",
    "def _get_json_(url:str, headers={}, params={}):\n",
    "    session = requests.session()\n",
    "    print(\"Fetching {}..\".format(url))\n",
    "    response = session.get(\n",
    "        url=url,\n",
    "        headers=headers,\n",
    "        params=params\n",
    "    ).text\n",
    "    json_response = json.loads(response)\n",
    "    return json_response"
   ]
  },
  {
   "cell_type": "markdown",
   "metadata": {},
   "source": [
    "#### Function defined to extract the historical data of instruments"
   ]
  },
  {
   "cell_type": "code",
   "execution_count": null,
   "metadata": {},
   "outputs": [],
   "source": [
    "## imports\n",
    "import csv\n",
    "import random\n",
    "from user_agents import USER_AGENTS\n",
    "\n",
    "SEARCH_BAR_URL = \"https://api.investing.com/api/search/v2/search\"\n",
    "HISTORICAL_DATA_BASE_URL = \"https://api.investing.com/api/financialdata/historical/{0}\"\n",
    "\n",
    "common_headers ={\n",
    "    \"user-agent\": random.choice(USER_AGENTS)\n",
    "}\n",
    "\n",
    "## Function to extract the table of OHLC\n",
    "def get_historical_data(args_tuple):\n",
    "    symbol, from_date, to_date = args_tuple[0], args_tuple[1], args_tuple[2]\n",
    "    params = {\n",
    "        \"q\": symbol\n",
    "    }\n",
    "    try:\n",
    "        search_bar_data = _get_json_(\n",
    "            url=SEARCH_BAR_URL,\n",
    "            headers=common_headers,\n",
    "            params=params\n",
    "        )\n",
    "        result = search_bar_data[\"quotes\"][0]\n",
    "        investing_code = result[\"id\"]\n",
    "        category = result[\"url\"].split(\"/\")[1]\n",
    "        country = result[\"flag\"]\n",
    "\n",
    "        ## for data scraping\n",
    "        output = []\n",
    "        try:\n",
    "            params = {\n",
    "                \"start-date\": from_date,\n",
    "                \"end-date\": to_date,\n",
    "                \"time-frame\": \"Daily\",\n",
    "                \"add-missing-rows\": \"False\"\n",
    "            }\n",
    "            response_data = _get_json_(\n",
    "                url=HISTORICAL_DATA_BASE_URL.format(investing_code),\n",
    "                headers=common_headers,\n",
    "                params=params\n",
    "            )\n",
    "            # print(response_data)\n",
    "            historical_data = response_data[\"data\"]\n",
    "            for item in historical_data:\n",
    "                output.append({\n",
    "                    \"Date\": item[\"rowDate\"],\n",
    "                    \"Open\": item[\"last_open\"],\n",
    "                    \"High\": item[\"last_max\"],\n",
    "                    \"Low\": item[\"last_min\"],\n",
    "                    \"Close\": item[\"last_close\"],\n",
    "                    \"Volume\": item[\"volume\"],\n",
    "                    \"Change\": item[\"change_precent\"]\n",
    "                })\n",
    "        except Exception as e:\n",
    "            output.append({\n",
    "                \"Date\": \"NA\",\n",
    "                \"Open\": \"NA\",\n",
    "                \"High\": \"NA\",\n",
    "                \"Low\": \"NA\",\n",
    "                \"Close\": \"NA\",\n",
    "                \"Volume\": \"NA\",\n",
    "                \"Change\": \"NA\",\n",
    "            })\n",
    "            \n",
    "        field_names = [\"Date\", \"Open\", \"High\", \"Low\", \"Close\", \"Volume\", \"Change\"]\n",
    "        with open(\"{0}-{1}-{2}.csv\".format(symbol,category,country), \"w\", newline=\"\") as csvfile:\n",
    "            writer = csv.DictWriter(csvfile,fieldnames=field_names)\n",
    "            writer.writeheader()\n",
    "            writer.writerows(output)\n",
    "        return True\n",
    "\n",
    "    except Exception as e:\n",
    "        print(\"{0} symbol not found on investing website..!\".format(symbol))\n",
    "\n",
    "# print(get_historical_data((\"SBI\",\"2022-08-01\",\"2022-08-31\")))\n",
    "# print(get_historical_data((\"0P0000SBP7\",\"2022-08-01\",\"2022-08-31\")))\n",
    "# print(get_historical_data((\"KTPU\",\"2022-08-01\",\"2022-08-31\"))) \n",
    "# print(get_historical_data((\"NIFTYAUTO\",\"2022-08-01\",\"2022-08-31\")))\n"
   ]
  },
  {
   "cell_type": "markdown",
   "metadata": {},
   "source": [
    "#### Main Function to link the `investing_code` with the searched symbol and saving the output to a csv file"
   ]
  },
  {
   "cell_type": "code",
   "execution_count": null,
   "metadata": {},
   "outputs": [],
   "source": [
    "from datetime import datetime\n",
    "from concurrent.futures import ThreadPoolExecutor\n",
    "\n",
    "def main():\n",
    "    symbols = input(\"Enter symbols(separated by space): \").split()\n",
    "    from_date = input(\"Enter from date(yyyy-mm-dd): \")\n",
    "    to_date = input(\"Enter to date(yyyy-mm-dd): \")\n",
    "    if datetime.strptime(from_date,\"%Y-%m-%d\").date() > datetime.strptime(to_date,\"%Y-%m-%d\").date():\n",
    "        print(\"Your from_date is greater than the to_date\")\n",
    "    else:\n",
    "        historical_data_args = []\n",
    "        for symbol in symbols:\n",
    "            historical_data_args.append((symbol,from_date,to_date))\n",
    "\n",
    "        with ThreadPoolExecutor() as executor:\n",
    "            executor.map(get_historical_data, historical_data_args)\n"
   ]
  },
  {
   "cell_type": "markdown",
   "metadata": {},
   "source": [
    "Execution or calling of main function"
   ]
  },
  {
   "cell_type": "code",
   "execution_count": null,
   "metadata": {},
   "outputs": [],
   "source": [
    "# main()"
   ]
  }
 ],
 "metadata": {
  "kernelspec": {
   "display_name": "Python 3.8.5 64-bit",
   "language": "python",
   "name": "python3"
  },
  "language_info": {
   "codemirror_mode": {
    "name": "ipython",
    "version": 3
   },
   "file_extension": ".py",
   "mimetype": "text/x-python",
   "name": "python",
   "nbconvert_exporter": "python",
   "pygments_lexer": "ipython3",
   "version": "3.8.5"
  },
  "orig_nbformat": 4,
  "vscode": {
   "interpreter": {
    "hash": "24e825efde00d83ae8956899d00353005a5e8e868b3ba791ab8b91de6cfd1652"
   }
  }
 },
 "nbformat": 4,
 "nbformat_minor": 2
}
